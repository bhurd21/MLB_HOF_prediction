{
 "cells": [
  {
   "cell_type": "markdown",
   "metadata": {},
   "source": [
    "### This project seeks to predict future MLB Hall of Fame members. So far, it includes only hitters."
   ]
  },
  {
   "cell_type": "code",
   "execution_count": 1,
   "metadata": {},
   "outputs": [],
   "source": [
    "import pandas as pd\n",
    "import numpy as np\n",
    "import matplotlib.pyplot as plt\n",
    "import seaborn as sns\n",
    "%matplotlib inline"
   ]
  },
  {
   "cell_type": "code",
   "execution_count": 2,
   "metadata": {},
   "outputs": [],
   "source": [
    "batting = pd.read_csv('./baseballdatabank-2022.2/core/Batting.csv')\n",
    "people = pd.read_csv('./baseballdatabank-2022.2/core/People.csv')\n",
    "allstar = pd.read_csv('./baseballdatabank-2022.2/core/AllstarFull.csv')\n",
    "HOF = pd.read_csv('./baseballdatabank-2022.2/contrib/HallOfFame.csv')"
   ]
  },
  {
   "cell_type": "markdown",
   "metadata": {},
   "source": [
    "## Main DataFrame"
   ]
  },
  {
   "cell_type": "markdown",
   "metadata": {},
   "source": [
    "Beginning with the \"Batting\" file, we first want to find the career achievements of each player, so we must group by playerID to do this. We will also add a list of the columns we wish to keep from the file."
   ]
  },
  {
   "cell_type": "code",
   "execution_count": 3,
   "metadata": {},
   "outputs": [],
   "source": [
    "player_total_stats = batting.groupby(['playerID'])[['G', 'AB', 'R', 'H','2B', '3B', 'HR', 'RBI', \n",
    "                                                   'SB', 'BB', 'SO', 'IBB', 'HBP', 'SF']].sum()"
   ]
  },
  {
   "cell_type": "markdown",
   "metadata": {},
   "source": [
    "This will be 'main' dataframe, so to say, throughout the cleaning process, as all other dataframes will be left joined to player_total_stats through the playerID column."
   ]
  },
  {
   "cell_type": "markdown",
   "metadata": {},
   "source": [
    "## People DataFrame"
   ]
  },
  {
   "cell_type": "markdown",
   "metadata": {},
   "source": [
    "The columns debut and finalGame from the 'people' file are considered objects in pandas despite representing datatime, so we can use the pandas implimentation to switch the data type and allow us to easily munipulate the data. Also, we will add a retirement column to the dataframe. Currently, the Hall of Fame requires that a player must be 5 years removed from league to be eligible for consideration, so this column will be vital to determining qualification. "
   ]
  },
  {
   "cell_type": "code",
   "execution_count": 4,
   "metadata": {},
   "outputs": [],
   "source": [
    "# converting to datetime and adjusting for dates > 2022\n",
    "# i.e. someone was born in 1926 (5-6-26) but the 'to_datetime' function interprets it as 2026\n",
    "people['debut'] = pd.to_datetime(people['debut'])\n",
    "people.loc[people['debut'].dt.year >= 2022, 'debut'] -= pd.DateOffset(years=100)\n",
    "people['finalGame'] = pd.to_datetime(people['finalGame'])\n",
    "people.loc[people['finalGame'].dt.year >= 2022, 'finalGame'] -= pd.DateOffset(years=100)"
   ]
  },
  {
   "cell_type": "markdown",
   "metadata": {},
   "source": [
    "Next, we can create a retirement column to determine eligibility to the HoF. Using pd.cut allows us to \"bin\" the data into ranges, which is what we need. The first bin is for players too recent to playing to be in the HoF, whereas label 1 are players who are eligible."
   ]
  },
  {
   "cell_type": "code",
   "execution_count": 5,
   "metadata": {},
   "outputs": [],
   "source": [
    "people['retirement'] = pd.to_datetime('today') - people['finalGame']\n",
    "people['retirement'] = people['retirement'] / np.timedelta64(1, 'Y')\n",
    "\n",
    "people['eligible'] = pd.cut(people['retirement'], bins = [0, 5, 1000], labels = ['too young', 'eligible'])"
   ]
  },
  {
   "cell_type": "code",
   "execution_count": 6,
   "metadata": {},
   "outputs": [],
   "source": [
    "people['CareerLength'] = people['finalGame'] - people['debut']\n",
    "people['CareerLength'] = people['CareerLength'] / np.timedelta64(1, 'Y')"
   ]
  },
  {
   "cell_type": "code",
   "execution_count": 7,
   "metadata": {},
   "outputs": [],
   "source": [
    "# same problem as above\n",
    "# i.e. sometimes someone would start in '16 and end in '20 and it would be interpreted as starting in 2016 and ending in 1920\n",
    "# adding 100 to players who have a negative career length solves this problem\n",
    "people.loc[people['CareerLength'] < 0, 'CareerLength'] += 100\n",
    "people.loc[people['CareerLength'] > 100, 'CareerLength'] -= 100"
   ]
  },
  {
   "cell_type": "markdown",
   "metadata": {},
   "source": [
    "The columns 'bats' and 'eligible' are still not numerical, so we can use '.get_dummies' to do this for us. It is a pandas implimentation of one hot encoding, and allows us to quickly binary encode our categorical data."
   ]
  },
  {
   "cell_type": "code",
   "execution_count": 8,
   "metadata": {},
   "outputs": [],
   "source": [
    "# One hot encoding for some categorical variables\n",
    "people = pd.get_dummies(people, columns = ['bats', 'eligible'], prefix= ['bats', 'is'], drop_first=True, dtype='float')"
   ]
  },
  {
   "cell_type": "code",
   "execution_count": 9,
   "metadata": {},
   "outputs": [],
   "source": [
    "people['Name'] = people['nameFirst'] + ' ' + people['nameLast']"
   ]
  },
  {
   "cell_type": "markdown",
   "metadata": {},
   "source": [
    "The following columns are the only ones which we wish to bring to the 'main' dataframe. However, there are players in this dataframe that do not have column values : weight, height, bats, and throws. For height and weight, where they are relatively normal in distribution, we will fit the missing values with the mean, and for bats and throws, we will fill with 0 (bats right and throws right) since this is the dominant orientation."
   ]
  },
  {
   "cell_type": "code",
   "execution_count": 10,
   "metadata": {},
   "outputs": [],
   "source": [
    "people = people[['playerID', 'birthCountry', 'weight', 'height', 'bats_L', 'bats_R', 'CareerLength', 'is_eligible', 'Name']]\n",
    "player_total_stats = player_total_stats.merge(people, left_on = 'playerID', right_on = 'playerID')"
   ]
  },
  {
   "cell_type": "code",
   "execution_count": 11,
   "metadata": {},
   "outputs": [],
   "source": [
    "player_total_stats['height'] = player_total_stats['height'].fillna(player_total_stats['height'].mean())\n",
    "player_total_stats['weight'] = player_total_stats['weight'].fillna(player_total_stats['weight'].mean())\n",
    "player_total_stats['birthCountry'] = player_total_stats['birthCountry'].fillna('USA')"
   ]
  },
  {
   "cell_type": "markdown",
   "metadata": {},
   "source": [
    "## Allstar DataFrame"
   ]
  },
  {
   "cell_type": "markdown",
   "metadata": {},
   "source": [
    "Now, onto the allstar dataframe, we are really only interested on the number of allstar game selection a player has, so we can use count to find this number. The GP column (games played) can be added to find such a number, which we rename in the next line to be \"ASGames\". Once this is done we can merge with player_total_stats"
   ]
  },
  {
   "cell_type": "code",
   "execution_count": 12,
   "metadata": {},
   "outputs": [],
   "source": [
    "allstar = allstar.groupby(['playerID'])[['GP']].count()\n",
    "allstar.rename(columns = {'GP':'ASGames'}, inplace = True)\n",
    "\n",
    "player_total_stats = player_total_stats.merge(allstar, how = 'left', left_on = 'playerID', right_on = 'playerID')"
   ]
  },
  {
   "cell_type": "markdown",
   "metadata": {},
   "source": [
    "Because we are using left join, there are many players who have null all star game apperances. This simply means that they did not have any apperances, and we can fill each null with 0. "
   ]
  },
  {
   "cell_type": "code",
   "execution_count": 13,
   "metadata": {},
   "outputs": [],
   "source": [
    "player_total_stats['ASGames'] = player_total_stats['ASGames'].fillna(0)"
   ]
  },
  {
   "cell_type": "markdown",
   "metadata": {},
   "source": [
    "## HOF DataFrame"
   ]
  },
  {
   "cell_type": "markdown",
   "metadata": {},
   "source": [
    "We begin by 'bool'erizing our data, so to say, and extracting the two columns that pertain to the project. After we merge to the main dataframe, we can binarize the data and also fill in null values."
   ]
  },
  {
   "cell_type": "code",
   "execution_count": 14,
   "metadata": {},
   "outputs": [],
   "source": [
    "HOF = HOF[HOF['votedBy'] == 'BBWAA']\n",
    "HOF = HOF[HOF['inducted'] == 'Y']\n",
    "HOF = HOF[['playerID', 'inducted']]"
   ]
  },
  {
   "cell_type": "code",
   "execution_count": 15,
   "metadata": {},
   "outputs": [],
   "source": [
    "player_total_stats = player_total_stats.merge(HOF, how = 'left', left_on = 'playerID', right_on = 'playerID')"
   ]
  },
  {
   "cell_type": "code",
   "execution_count": 16,
   "metadata": {},
   "outputs": [],
   "source": [
    "player_total_stats['inducted'] = player_total_stats['inducted'].fillna(0)\n",
    "player_total_stats['inducted'] = player_total_stats['inducted'].where(player_total_stats['inducted'] == 0, 1)\n",
    "player_total_stats['inducted'] = player_total_stats['inducted'].astype(int)"
   ]
  },
  {
   "cell_type": "markdown",
   "metadata": {},
   "source": [
    "## Feature Selection"
   ]
  },
  {
   "cell_type": "markdown",
   "metadata": {},
   "source": [
    "Bill James, one of the founders of modern baseball statistics, came up with several metrics for a players performance in his book, 'The Politics of Glory'. The one most relavent to our dataframe is called the \"Hall of Fame Career Standards Test\". These metrics can be found in his book on p. 174-176. All values are for career marks.\n",
    "\n",
    "Batting Statistics\n",
    "- 1 One point for each 150 hits above 1500, limit 10.\n",
    "- 2 One point for each .005 of batting average above .275, limit 9\n",
    "- 3 One point for batting over .300\n",
    "- 4 One point for each 100 runs over 900, limit 8.\n",
    "- 5 One point for scoring more than .500 runs per game.\n",
    "- 6 One point for scoring more than .644 runs per game.\n",
    "- 7 One point for each 100 rbi's over 800, limit 8.\n",
    "- 8 One point for driving in more than .500 runs per game.\n",
    "- 9 One point for driving in more than .600 runs per game.\n",
    "- 10 One point for each .025 of slugging percentage above .300, limit 10\n",
    "- 11 One point for each .010 of on-base percentage above .300, limit 10\n",
    "- 12 One point for each 200 home runs.\n",
    "- 13 One point if home runs are more than 10% of hits.\n",
    "- 14 One point if home runs are more than 20% of hits.\n",
    "- 15 One point for each 200 extra base hits over 300, limit 5.\n",
    "- 16 One point for each 200 walks over 300, limit 5.\n",
    "- 17 One point for each 100 stolen bases, limit 5."
   ]
  },
  {
   "cell_type": "code",
   "execution_count": 17,
   "metadata": {},
   "outputs": [],
   "source": [
    "def CST(data):\n",
    "    \n",
    "    data[1] = np.floor((data['H'] - 1500) / 150).clip(0, 10)\n",
    "    data[2] = np.floor(((data['H'] / data['AB']) - 0.275)/0.005).clip(0,9)\n",
    "    data[3] = np.ceil((data['H'] / data['AB']) - 0.3).clip(0,1)\n",
    "    data[4] = np.floor((data['R'] - 900) / 100).clip(0, 8)\n",
    "    data[5] = np.ceil(((data['R'] / data['G']) - 0.500)).clip(0,1)\n",
    "    data[6] = np.ceil(((data['R'] / data['G']) - 0.644)).clip(0,1)\n",
    "    data[7] = np.floor((data['RBI'] - 800) / 100).clip(0, 8)\n",
    "    data[8] = np.ceil(((data['RBI'] / data['G']) - 0.500)).clip(0,1)\n",
    "    data[9] = np.ceil(((data['RBI'] / data['G']) - 0.600)).clip(0,1)\n",
    "    data[10] = np.floor((((data['H'] + 2*data['2B'] + 3*data['3B'] + 4*data['HR'])/data['AB']) - 0.3)/0.025).clip(0,10)\n",
    "    data[11] = np.floor((((data['H'] + data['BB'] + data['HBP'])/(data['AB'] + data['BB'] + data['HBP'] + data['SF'])) - 0.3)/0.01).clip(0,10)\n",
    "    data[12] = np.floor(data['HR'] / 200)\n",
    "    data[13] = np.ceil(((data['HR'] / data['H']) - 0.1)).clip(0,1)\n",
    "    data[14] = np.ceil(((data['HR'] / data['H']) - 0.2)).clip(0,1)\n",
    "    data[15] = np.floor(((data['2B'] + data['3B'] + data['HR']) - 300) / 200).clip(0, 5)\n",
    "    data[16] = np.floor((data['BB'] - 300) / 200).clip(0, 5)\n",
    "    data[17] = np.floor(data['SB'] / 100).clip(0, 5)\n",
    "    \n",
    "    data['CST'] = data[1]\n",
    "    for i in range(16):\n",
    "        data['CST'] += data[i + 2]\n",
    "    data['CST'] = data['CST'].fillna(0)\n",
    "    \n",
    "    data = data.drop([1,2,3,4,5,6,7,8,9,10,11,12,13,14,15,16,17] , axis = 1)\n",
    "    \n",
    "    return data"
   ]
  },
  {
   "cell_type": "code",
   "execution_count": 18,
   "metadata": {},
   "outputs": [],
   "source": [
    "player_total_stats = CST(player_total_stats)"
   ]
  },
  {
   "cell_type": "markdown",
   "metadata": {},
   "source": [
    "An 'unoffical' metric of CST is that the player must have at least 1,000 at bats (AB) to have a reasonable chance of having a Hall of Fame worthy score. "
   ]
  },
  {
   "cell_type": "code",
   "execution_count": 19,
   "metadata": {},
   "outputs": [],
   "source": [
    "player_total_stats = player_total_stats[player_total_stats['AB'] >= 1000].sort_values('AB', ascending=False)"
   ]
  },
  {
   "cell_type": "markdown",
   "id": "d6f294c9-d322-48a3-a190-5c528c739b0d",
   "metadata": {
    "pycharm": {
     "name": "#%% md\n"
    }
   },
   "source": [
    "We have two columns (playerID and birthCountry) that are not numeric, so it would be helpful to have a dataframe that consists only of numerical columns."
   ]
  },
  {
   "cell_type": "code",
   "execution_count": 20,
   "metadata": {},
   "outputs": [],
   "source": [
    "pts_num = player_total_stats.drop(['playerID', 'birthCountry', 'Name'], axis = 1)"
   ]
  },
  {
   "cell_type": "code",
   "execution_count": 21,
   "metadata": {},
   "outputs": [
    {
     "data": {
      "image/png": "[encoded data removed]",
      "text/plain": [
       "<Figure size 1080x1080 with 24 Axes>"
      ]
     },
     "metadata": {
      "needs_background": "light"
     },
     "output_type": "display_data"
    }
   ],
   "source": [
    "pts_num.hist(bins=50, figsize=(15, 15), layout=(6, 4));"
   ]
  },
  {
   "cell_type": "markdown",
   "metadata": {},
   "source": [
    "## Dealing with right-skewed data"
   ]
  },
  {
   "cell_type": "markdown",
   "metadata": {},
   "source": [
    "as you can see above, most all of our numerical data has at least somewhat of a right skew, which is fine for simple data analysis, but is not ideal for machine learning models. Thus, we need to find a good way of 'normalizing' our data without losing the relational aspect of the data.\n",
    "\n",
    "Below are the columns that need to be rescaled."
   ]
  },
  {
   "cell_type": "code",
   "execution_count": 22,
   "metadata": {},
   "outputs": [],
   "source": [
    "col_tochange = ['G', 'AB', 'R', 'H', '2B', '3B', 'HR', 'RBI', 'SB', 'BB', \n",
    "                'SO', 'IBB', 'HBP', 'SF','ASGames', 'CareerLength', 'CST']"
   ]
  },
  {
   "cell_type": "markdown",
   "metadata": {},
   "source": [
    "The issue with choosing the logorithmic function to scale our data is that at zero, the value of log(X) is negative infinity, which of course is not ideal. Thus, we need a slight shift to make sure that this does not occur. The addition of 0.5 is arbitrary, I have not tested all changes between 0 and 1, and perhaps there is a better constant to add."
   ]
  },
  {
   "cell_type": "code",
   "execution_count": 23,
   "metadata": {},
   "outputs": [],
   "source": [
    "pts_temp = pts_num\n",
    "for x in col_tochange:\n",
    "    pts_temp[x] = np.log(pts_num[x] + 0.5)"
   ]
  },
  {
   "cell_type": "markdown",
   "metadata": {},
   "source": [
    "Now it would be useful for the model that all of our data ranges from 0 to 1. The following code does that nicely"
   ]
  },
  {
   "cell_type": "code",
   "execution_count": 24,
   "metadata": {},
   "outputs": [],
   "source": [
    "pts_num = pts_temp\n",
    "\n",
    "for x in pts_num.columns:\n",
    "    pts_num[x] = pts_temp[x] - pts_temp[x].min()\n",
    "    pts_num[x] = pts_num[x] / pts_num[x].max()"
   ]
  },
  {
   "cell_type": "code",
   "execution_count": 25,
   "metadata": {},
   "outputs": [
    {
     "data": {
      "image/png": "[encoded data removed]",
      "text/plain": [
       "<Figure size 1080x1080 with 24 Axes>"
      ]
     },
     "metadata": {
      "needs_background": "light"
     },
     "output_type": "display_data"
    }
   ],
   "source": [
    "pts_num.hist(bins=50, figsize=(15, 15), layout=(6, 4));"
   ]
  },
  {
   "cell_type": "markdown",
   "metadata": {},
   "source": [
    "## Final DataFrames"
   ]
  },
  {
   "cell_type": "code",
   "execution_count": 26,
   "metadata": {},
   "outputs": [
    {
     "data": {
      "text/html": [
       "<div>\n",
       "<style scoped>\n",
       "    .dataframe tbody tr th:only-of-type {\n",
       "        vertical-align: middle;\n",
       "    }\n",
       "\n",
       "    .dataframe tbody tr th {\n",
       "        vertical-align: top;\n",
       "    }\n",
       "\n",
       "    .dataframe thead th {\n",
       "        text-align: right;\n",
       "    }\n",
       "</style>\n",
       "<table border=\"1\" class=\"dataframe\">\n",
       "  <thead>\n",
       "    <tr style=\"text-align: right;\">\n",
       "      <th></th>\n",
       "      <th>playerID</th>\n",
       "      <th>G</th>\n",
       "      <th>AB</th>\n",
       "      <th>R</th>\n",
       "      <th>H</th>\n",
       "      <th>2B</th>\n",
       "      <th>3B</th>\n",
       "      <th>HR</th>\n",
       "      <th>RBI</th>\n",
       "      <th>SB</th>\n",
       "      <th>...</th>\n",
       "      <th>weight</th>\n",
       "      <th>height</th>\n",
       "      <th>bats_L</th>\n",
       "      <th>bats_R</th>\n",
       "      <th>CareerLength</th>\n",
       "      <th>is_eligible</th>\n",
       "      <th>Name</th>\n",
       "      <th>ASGames</th>\n",
       "      <th>inducted</th>\n",
       "      <th>CST</th>\n",
       "    </tr>\n",
       "  </thead>\n",
       "  <tbody>\n",
       "    <tr>\n",
       "      <th>15679</th>\n",
       "      <td>rosepe01</td>\n",
       "      <td>3562</td>\n",
       "      <td>14053</td>\n",
       "      <td>2165</td>\n",
       "      <td>4256</td>\n",
       "      <td>746</td>\n",
       "      <td>135</td>\n",
       "      <td>160</td>\n",
       "      <td>1314.0</td>\n",
       "      <td>198.0</td>\n",
       "      <td>...</td>\n",
       "      <td>192.0</td>\n",
       "      <td>71.0</td>\n",
       "      <td>0.0</td>\n",
       "      <td>0.0</td>\n",
       "      <td>23.359823</td>\n",
       "      <td>1.0</td>\n",
       "      <td>Pete Rose</td>\n",
       "      <td>17.0</td>\n",
       "      <td>0</td>\n",
       "      <td>53.0</td>\n",
       "    </tr>\n",
       "    <tr>\n",
       "      <th>1</th>\n",
       "      <td>aaronha01</td>\n",
       "      <td>3298</td>\n",
       "      <td>12364</td>\n",
       "      <td>2174</td>\n",
       "      <td>3771</td>\n",
       "      <td>624</td>\n",
       "      <td>98</td>\n",
       "      <td>755</td>\n",
       "      <td>2297.0</td>\n",
       "      <td>240.0</td>\n",
       "      <td>...</td>\n",
       "      <td>180.0</td>\n",
       "      <td>72.0</td>\n",
       "      <td>0.0</td>\n",
       "      <td>1.0</td>\n",
       "      <td>22.475479</td>\n",
       "      <td>1.0</td>\n",
       "      <td>Hank Aaron</td>\n",
       "      <td>24.0</td>\n",
       "      <td>1</td>\n",
       "      <td>70.0</td>\n",
       "    </tr>\n",
       "    <tr>\n",
       "      <th>19965</th>\n",
       "      <td>yastrca01</td>\n",
       "      <td>3308</td>\n",
       "      <td>11988</td>\n",
       "      <td>1816</td>\n",
       "      <td>3419</td>\n",
       "      <td>646</td>\n",
       "      <td>59</td>\n",
       "      <td>452</td>\n",
       "      <td>1844.0</td>\n",
       "      <td>168.0</td>\n",
       "      <td>...</td>\n",
       "      <td>175.0</td>\n",
       "      <td>71.0</td>\n",
       "      <td>1.0</td>\n",
       "      <td>0.0</td>\n",
       "      <td>22.475479</td>\n",
       "      <td>1.0</td>\n",
       "      <td>Carl Yastrzemski</td>\n",
       "      <td>18.0</td>\n",
       "      <td>1</td>\n",
       "      <td>60.0</td>\n",
       "    </tr>\n",
       "    <tr>\n",
       "      <th>15282</th>\n",
       "      <td>ripkeca01</td>\n",
       "      <td>3001</td>\n",
       "      <td>11551</td>\n",
       "      <td>1647</td>\n",
       "      <td>3184</td>\n",
       "      <td>603</td>\n",
       "      <td>44</td>\n",
       "      <td>431</td>\n",
       "      <td>1695.0</td>\n",
       "      <td>36.0</td>\n",
       "      <td>...</td>\n",
       "      <td>200.0</td>\n",
       "      <td>76.0</td>\n",
       "      <td>0.0</td>\n",
       "      <td>1.0</td>\n",
       "      <td>20.156471</td>\n",
       "      <td>1.0</td>\n",
       "      <td>Cal Ripken</td>\n",
       "      <td>19.0</td>\n",
       "      <td>1</td>\n",
       "      <td>50.0</td>\n",
       "    </tr>\n",
       "    <tr>\n",
       "      <th>3366</th>\n",
       "      <td>cobbty01</td>\n",
       "      <td>3035</td>\n",
       "      <td>11436</td>\n",
       "      <td>2247</td>\n",
       "      <td>4189</td>\n",
       "      <td>724</td>\n",
       "      <td>295</td>\n",
       "      <td>117</td>\n",
       "      <td>1944.0</td>\n",
       "      <td>896.0</td>\n",
       "      <td>...</td>\n",
       "      <td>175.0</td>\n",
       "      <td>73.0</td>\n",
       "      <td>1.0</td>\n",
       "      <td>0.0</td>\n",
       "      <td>23.031958</td>\n",
       "      <td>1.0</td>\n",
       "      <td>Ty Cobb</td>\n",
       "      <td>0.0</td>\n",
       "      <td>1</td>\n",
       "      <td>73.0</td>\n",
       "    </tr>\n",
       "  </tbody>\n",
       "</table>\n",
       "<p>5 rows × 26 columns</p>\n",
       "</div>"
      ],
      "text/plain": [
       "        playerID     G     AB     R     H   2B   3B   HR     RBI     SB  ...  \\\n",
       "15679   rosepe01  3562  14053  2165  4256  746  135  160  1314.0  198.0  ...   \n",
       "1      aaronha01  3298  12364  2174  3771  624   98  755  2297.0  240.0  ...   \n",
       "19965  yastrca01  3308  11988  1816  3419  646   59  452  1844.0  168.0  ...   \n",
       "15282  ripkeca01  3001  11551  1647  3184  603   44  431  1695.0   36.0  ...   \n",
       "3366    cobbty01  3035  11436  2247  4189  724  295  117  1944.0  896.0  ...   \n",
       "\n",
       "       weight  height  bats_L  bats_R  CareerLength is_eligible  \\\n",
       "15679   192.0    71.0     0.0     0.0     23.359823         1.0   \n",
       "1       180.0    72.0     0.0     1.0     22.475479         1.0   \n",
       "19965   175.0    71.0     1.0     0.0     22.475479         1.0   \n",
       "15282   200.0    76.0     0.0     1.0     20.156471         1.0   \n",
       "3366    175.0    73.0     1.0     0.0     23.031958         1.0   \n",
       "\n",
       "                   Name  ASGames  inducted   CST  \n",
       "15679         Pete Rose     17.0         0  53.0  \n",
       "1            Hank Aaron     24.0         1  70.0  \n",
       "19965  Carl Yastrzemski     18.0         1  60.0  \n",
       "15282        Cal Ripken     19.0         1  50.0  \n",
       "3366            Ty Cobb      0.0         1  73.0  \n",
       "\n",
       "[5 rows x 26 columns]"
      ]
     },
     "execution_count": 26,
     "metadata": {},
     "output_type": "execute_result"
    }
   ],
   "source": [
    "player_total_stats.head()"
   ]
  },
  {
   "cell_type": "code",
   "execution_count": 27,
   "metadata": {},
   "outputs": [
    {
     "data": {
      "text/html": [
       "<div>\n",
       "<style scoped>\n",
       "    .dataframe tbody tr th:only-of-type {\n",
       "        vertical-align: middle;\n",
       "    }\n",
       "\n",
       "    .dataframe tbody tr th {\n",
       "        vertical-align: top;\n",
       "    }\n",
       "\n",
       "    .dataframe thead th {\n",
       "        text-align: right;\n",
       "    }\n",
       "</style>\n",
       "<table border=\"1\" class=\"dataframe\">\n",
       "  <thead>\n",
       "    <tr style=\"text-align: right;\">\n",
       "      <th></th>\n",
       "      <th>G</th>\n",
       "      <th>AB</th>\n",
       "      <th>R</th>\n",
       "      <th>H</th>\n",
       "      <th>2B</th>\n",
       "      <th>3B</th>\n",
       "      <th>HR</th>\n",
       "      <th>RBI</th>\n",
       "      <th>SB</th>\n",
       "      <th>BB</th>\n",
       "      <th>...</th>\n",
       "      <th>SF</th>\n",
       "      <th>weight</th>\n",
       "      <th>height</th>\n",
       "      <th>bats_L</th>\n",
       "      <th>bats_R</th>\n",
       "      <th>CareerLength</th>\n",
       "      <th>is_eligible</th>\n",
       "      <th>ASGames</th>\n",
       "      <th>inducted</th>\n",
       "      <th>CST</th>\n",
       "    </tr>\n",
       "  </thead>\n",
       "  <tbody>\n",
       "    <tr>\n",
       "      <th>15679</th>\n",
       "      <td>1.000000</td>\n",
       "      <td>1.000000</td>\n",
       "      <td>0.984885</td>\n",
       "      <td>1.000000</td>\n",
       "      <td>0.986170</td>\n",
       "      <td>0.871504</td>\n",
       "      <td>0.787399</td>\n",
       "      <td>0.878155</td>\n",
       "      <td>0.753454</td>\n",
       "      <td>0.922660</td>\n",
       "      <td>...</td>\n",
       "      <td>0.913468</td>\n",
       "      <td>0.411429</td>\n",
       "      <td>0.470588</td>\n",
       "      <td>0.0</td>\n",
       "      <td>0.0</td>\n",
       "      <td>0.885919</td>\n",
       "      <td>1.0</td>\n",
       "      <td>0.895488</td>\n",
       "      <td>0.0</td>\n",
       "      <td>0.931347</td>\n",
       "    </tr>\n",
       "    <tr>\n",
       "      <th>1</th>\n",
       "      <td>0.972965</td>\n",
       "      <td>0.951543</td>\n",
       "      <td>0.985961</td>\n",
       "      <td>0.965133</td>\n",
       "      <td>0.944900</td>\n",
       "      <td>0.821891</td>\n",
       "      <td>0.998742</td>\n",
       "      <td>1.000000</td>\n",
       "      <td>0.777620</td>\n",
       "      <td>0.905225</td>\n",
       "      <td>...</td>\n",
       "      <td>0.989906</td>\n",
       "      <td>0.342857</td>\n",
       "      <td>0.529412</td>\n",
       "      <td>0.0</td>\n",
       "      <td>1.0</td>\n",
       "      <td>0.872518</td>\n",
       "      <td>1.0</td>\n",
       "      <td>0.980235</td>\n",
       "      <td>1.0</td>\n",
       "      <td>0.986343</td>\n",
       "    </tr>\n",
       "    <tr>\n",
       "      <th>19965</th>\n",
       "      <td>0.974027</td>\n",
       "      <td>0.939856</td>\n",
       "      <td>0.939323</td>\n",
       "      <td>0.936894</td>\n",
       "      <td>0.952908</td>\n",
       "      <td>0.743473</td>\n",
       "      <td>0.928809</td>\n",
       "      <td>0.952076</td>\n",
       "      <td>0.732823</td>\n",
       "      <td>0.948500</td>\n",
       "      <td>...</td>\n",
       "      <td>0.964459</td>\n",
       "      <td>0.314286</td>\n",
       "      <td>0.470588</td>\n",
       "      <td>1.0</td>\n",
       "      <td>0.0</td>\n",
       "      <td>0.872518</td>\n",
       "      <td>1.0</td>\n",
       "      <td>0.909484</td>\n",
       "      <td>1.0</td>\n",
       "      <td>0.955855</td>\n",
       "    </tr>\n",
       "    <tr>\n",
       "      <th>15282</th>\n",
       "      <td>0.939833</td>\n",
       "      <td>0.925803</td>\n",
       "      <td>0.914006</td>\n",
       "      <td>0.916374</td>\n",
       "      <td>0.936989</td>\n",
       "      <td>0.698283</td>\n",
       "      <td>0.922325</td>\n",
       "      <td>0.933696</td>\n",
       "      <td>0.540224</td>\n",
       "      <td>0.871097</td>\n",
       "      <td>...</td>\n",
       "      <td>0.998592</td>\n",
       "      <td>0.457143</td>\n",
       "      <td>0.764706</td>\n",
       "      <td>0.0</td>\n",
       "      <td>1.0</td>\n",
       "      <td>0.834766</td>\n",
       "      <td>1.0</td>\n",
       "      <td>0.922744</td>\n",
       "      <td>1.0</td>\n",
       "      <td>0.919845</td>\n",
       "    </tr>\n",
       "    <tr>\n",
       "      <th>3366</th>\n",
       "      <td>0.943788</td>\n",
       "      <td>0.922016</td>\n",
       "      <td>0.994521</td>\n",
       "      <td>0.995427</td>\n",
       "      <td>0.979252</td>\n",
       "      <td>0.992799</td>\n",
       "      <td>0.744853</td>\n",
       "      <td>0.963598</td>\n",
       "      <td>0.943294</td>\n",
       "      <td>0.887015</td>\n",
       "      <td>...</td>\n",
       "      <td>0.000000</td>\n",
       "      <td>0.314286</td>\n",
       "      <td>0.588235</td>\n",
       "      <td>1.0</td>\n",
       "      <td>0.0</td>\n",
       "      <td>0.881010</td>\n",
       "      <td>1.0</td>\n",
       "      <td>0.000000</td>\n",
       "      <td>1.0</td>\n",
       "      <td>0.994649</td>\n",
       "    </tr>\n",
       "  </tbody>\n",
       "</table>\n",
       "<p>5 rows × 23 columns</p>\n",
       "</div>"
      ],
      "text/plain": [
       "              G        AB         R         H        2B        3B        HR  \\\n",
       "15679  1.000000  1.000000  0.984885  1.000000  0.986170  0.871504  0.787399   \n",
       "1      0.972965  0.951543  0.985961  0.965133  0.944900  0.821891  0.998742   \n",
       "19965  0.974027  0.939856  0.939323  0.936894  0.952908  0.743473  0.928809   \n",
       "15282  0.939833  0.925803  0.914006  0.916374  0.936989  0.698283  0.922325   \n",
       "3366   0.943788  0.922016  0.994521  0.995427  0.979252  0.992799  0.744853   \n",
       "\n",
       "            RBI        SB        BB  ...        SF    weight    height  \\\n",
       "15679  0.878155  0.753454  0.922660  ...  0.913468  0.411429  0.470588   \n",
       "1      1.000000  0.777620  0.905225  ...  0.989906  0.342857  0.529412   \n",
       "19965  0.952076  0.732823  0.948500  ...  0.964459  0.314286  0.470588   \n",
       "15282  0.933696  0.540224  0.871097  ...  0.998592  0.457143  0.764706   \n",
       "3366   0.963598  0.943294  0.887015  ...  0.000000  0.314286  0.588235   \n",
       "\n",
       "       bats_L  bats_R  CareerLength  is_eligible   ASGames  inducted       CST  \n",
       "15679     0.0     0.0      0.885919          1.0  0.895488       0.0  0.931347  \n",
       "1         0.0     1.0      0.872518          1.0  0.980235       1.0  0.986343  \n",
       "19965     1.0     0.0      0.872518          1.0  0.909484       1.0  0.955855  \n",
       "15282     0.0     1.0      0.834766          1.0  0.922744       1.0  0.919845  \n",
       "3366      1.0     0.0      0.881010          1.0  0.000000       1.0  0.994649  \n",
       "\n",
       "[5 rows x 23 columns]"
      ]
     },
     "execution_count": 27,
     "metadata": {},
     "output_type": "execute_result"
    }
   ],
   "source": [
    "pts_num.head()"
   ]
  },
  {
   "cell_type": "markdown",
   "metadata": {},
   "source": [
    "### Using SMOTE to deal with unbalanced data"
   ]
  },
  {
   "cell_type": "code",
   "execution_count": 28,
   "metadata": {},
   "outputs": [],
   "source": [
    "from imblearn.over_sampling import SMOTE\n",
    "from sklearn.model_selection import train_test_split"
   ]
  },
  {
   "cell_type": "code",
   "execution_count": 29,
   "metadata": {},
   "outputs": [
    {
     "data": {
      "image/png": "[encoded data removed]",
      "text/plain": [
       "<Figure size 432x288 with 1 Axes>"
      ]
     },
     "metadata": {
      "needs_background": "light"
     },
     "output_type": "display_data"
    }
   ],
   "source": [
    "sns.histplot(data = pts_num, x = 'inducted', hue='inducted', shrink= 11);\n",
    "plt.ylabel('Number of Players');\n",
    "plt.xlabel('Hall of Fame Status');\n",
    "plt.title('Hall of Fame distribution of players over 1,000 ABs');\n",
    "plt.xticks(np.arange(0,0,1));\n",
    "plt.legend(labels = ['Hall of Famers', 'Non Hall of Famers']);"
   ]
  },
  {
   "cell_type": "markdown",
   "metadata": {},
   "source": [
    "As is evident from the above chart, we have many more cases of players not in the Hall of Fame compared to players who have been inducted. This is an issue since it will lead the models we create to simply just guess each player to not be inducted, which is pointless for the sake of this project. Thus, we need to balance the data. \n",
    "\n",
    "SMOTE, or Synthetic Minority Oversampling Technique, is used as a type of oversampling to help balance our data. It uses a 'nearest neighbors' techneque to come up with many psuedo-positive cases, which in turn gives us balance."
   ]
  },
  {
   "cell_type": "code",
   "execution_count": 30,
   "metadata": {},
   "outputs": [],
   "source": [
    "X = pts_num.query('is_eligible == 1')\n",
    "y = X.inducted\n",
    "X = X.drop(['is_eligible', 'inducted'], axis=1)"
   ]
  },
  {
   "cell_type": "markdown",
   "metadata": {},
   "source": [
    "Below we are splitting the data into X (the given data), and y (the output we want to predict). Using training and testing splits is a common feature of ML models, which decreases the chances of the model overfitting to the given data."
   ]
  },
  {
   "cell_type": "code",
   "execution_count": 31,
   "metadata": {},
   "outputs": [],
   "source": [
    "X_train, X_test, y_train, y_test = train_test_split(X, y, test_size=0.25)"
   ]
  },
  {
   "cell_type": "code",
   "execution_count": 32,
   "metadata": {},
   "outputs": [],
   "source": [
    "oversample = SMOTE()\n",
    "X_smote, y_smote = oversample.fit_resample(X_train, y_train)"
   ]
  },
  {
   "cell_type": "markdown",
   "metadata": {},
   "source": [
    "Using SMOTE, our data is now completely balanced."
   ]
  },
  {
   "cell_type": "code",
   "execution_count": 33,
   "metadata": {},
   "outputs": [
    {
     "data": {
      "image/png": "[encoded data removed]",
      "text/plain": [
       "<Figure size 432x288 with 1 Axes>"
      ]
     },
     "metadata": {
      "needs_background": "light"
     },
     "output_type": "display_data"
    }
   ],
   "source": [
    "sns.histplot(data = y_smote, shrink= 11);\n",
    "plt.ylabel('Number of Players');\n",
    "plt.xlabel('Hall of Fame Status');\n",
    "plt.title('Hall of Fame distribution of players over 1,000 ABs');\n",
    "plt.xticks(np.arange(0,2,1));\n",
    "plt.legend(labels = ['Hall of Famers', 'Non Hall of Famers']);"
   ]
  },
  {
   "cell_type": "markdown",
   "metadata": {},
   "source": [
    "## Model selection and tuning"
   ]
  },
  {
   "cell_type": "code",
   "execution_count": 34,
   "metadata": {},
   "outputs": [],
   "source": [
    "from sklearn.metrics import confusion_matrix\n",
    "from sklearn.linear_model import LogisticRegression"
   ]
  },
  {
   "cell_type": "code",
   "execution_count": 35,
   "metadata": {},
   "outputs": [
    {
     "data": {
      "text/html": [
       "<style>#sk-container-id-1 {color: black;background-color: white;}#sk-container-id-1 pre{padding: 0;}#sk-container-id-1 div.sk-toggleable {background-color: white;}#sk-container-id-1 label.sk-toggleable__label {cursor: pointer;display: block;width: 100%;margin-bottom: 0;padding: 0.3em;box-sizing: border-box;text-align: center;}#sk-container-id-1 label.sk-toggleable__label-arrow:before {content: \"▸\";float: left;margin-right: 0.25em;color: #696969;}#sk-container-id-1 label.sk-toggleable__label-arrow:hover:before {color: black;}#sk-container-id-1 div.sk-estimator:hover label.sk-toggleable__label-arrow:before {color: black;}#sk-container-id-1 div.sk-toggleable__content {max-height: 0;max-width: 0;overflow: hidden;text-align: left;background-color: #f0f8ff;}#sk-container-id-1 div.sk-toggleable__content pre {margin: 0.2em;color: black;border-radius: 0.25em;background-color: #f0f8ff;}#sk-container-id-1 input.sk-toggleable__control:checked~div.sk-toggleable__content {max-height: 200px;max-width: 100%;overflow: auto;}#sk-container-id-1 input.sk-toggleable__control:checked~label.sk-toggleable__label-arrow:before {content: \"▾\";}#sk-container-id-1 div.sk-estimator input.sk-toggleable__control:checked~label.sk-toggleable__label {background-color: #d4ebff;}#sk-container-id-1 div.sk-label input.sk-toggleable__control:checked~label.sk-toggleable__label {background-color: #d4ebff;}#sk-container-id-1 input.sk-hidden--visually {border: 0;clip: rect(1px 1px 1px 1px);clip: rect(1px, 1px, 1px, 1px);height: 1px;margin: -1px;overflow: hidden;padding: 0;position: absolute;width: 1px;}#sk-container-id-1 div.sk-estimator {font-family: monospace;background-color: #f0f8ff;border: 1px dotted black;border-radius: 0.25em;box-sizing: border-box;margin-bottom: 0.5em;}#sk-container-id-1 div.sk-estimator:hover {background-color: #d4ebff;}#sk-container-id-1 div.sk-parallel-item::after {content: \"\";width: 100%;border-bottom: 1px solid gray;flex-grow: 1;}#sk-container-id-1 div.sk-label:hover label.sk-toggleable__label {background-color: #d4ebff;}#sk-container-id-1 div.sk-serial::before {content: \"\";position: absolute;border-left: 1px solid gray;box-sizing: border-box;top: 0;bottom: 0;left: 50%;z-index: 0;}#sk-container-id-1 div.sk-serial {display: flex;flex-direction: column;align-items: center;background-color: white;padding-right: 0.2em;padding-left: 0.2em;position: relative;}#sk-container-id-1 div.sk-item {position: relative;z-index: 1;}#sk-container-id-1 div.sk-parallel {display: flex;align-items: stretch;justify-content: center;background-color: white;position: relative;}#sk-container-id-1 div.sk-item::before, #sk-container-id-1 div.sk-parallel-item::before {content: \"\";position: absolute;border-left: 1px solid gray;box-sizing: border-box;top: 0;bottom: 0;left: 50%;z-index: -1;}#sk-container-id-1 div.sk-parallel-item {display: flex;flex-direction: column;z-index: 1;position: relative;background-color: white;}#sk-container-id-1 div.sk-parallel-item:first-child::after {align-self: flex-end;width: 50%;}#sk-container-id-1 div.sk-parallel-item:last-child::after {align-self: flex-start;width: 50%;}#sk-container-id-1 div.sk-parallel-item:only-child::after {width: 0;}#sk-container-id-1 div.sk-dashed-wrapped {border: 1px dashed gray;margin: 0 0.4em 0.5em 0.4em;box-sizing: border-box;padding-bottom: 0.4em;background-color: white;}#sk-container-id-1 div.sk-label label {font-family: monospace;font-weight: bold;display: inline-block;line-height: 1.2em;}#sk-container-id-1 div.sk-label-container {text-align: center;}#sk-container-id-1 div.sk-container {/* jupyter's `normalize.less` sets `[hidden] { display: none; }` but bootstrap.min.css set `[hidden] { display: none !important; }` so we also need the `!important` here to be able to override the default hidden behavior on the sphinx rendered scikit-learn.org. See: https://github.com/scikit-learn/scikit-learn/issues/21755 */display: inline-block !important;position: relative;}#sk-container-id-1 div.sk-text-repr-fallback {display: none;}</style><div id=\"sk-container-id-1\" class=\"sk-top-container\"><div class=\"sk-text-repr-fallback\"><pre>LogisticRegression(solver=&#x27;saga&#x27;)</pre><b>In a Jupyter environment, please rerun this cell to show the HTML representation or trust the notebook. <br />On GitHub, the HTML representation is unable to render, please try loading this page with nbviewer.org.</b></div><div class=\"sk-container\" hidden><div class=\"sk-item\"><div class=\"sk-estimator sk-toggleable\"><input class=\"sk-toggleable__control sk-hidden--visually\" id=\"sk-estimator-id-1\" type=\"checkbox\" checked><label for=\"sk-estimator-id-1\" class=\"sk-toggleable__label sk-toggleable__label-arrow\">LogisticRegression</label><div class=\"sk-toggleable__content\"><pre>LogisticRegression(solver=&#x27;saga&#x27;)</pre></div></div></div></div></div>"
      ],
      "text/plain": [
       "LogisticRegression(solver='saga')"
      ]
     },
     "execution_count": 35,
     "metadata": {},
     "output_type": "execute_result"
    }
   ],
   "source": [
    "model = LogisticRegression(solver='saga')\n",
    "model.fit(X_smote, y_smote)"
   ]
  },
  {
   "cell_type": "code",
   "execution_count": 36,
   "metadata": {},
   "outputs": [],
   "source": [
    "y_pred = model.predict(X_test)"
   ]
  },
  {
   "cell_type": "code",
   "execution_count": 37,
   "metadata": {},
   "outputs": [
    {
     "name": "stdout",
     "output_type": "stream",
     "text": [
      "True neg. = 741\n",
      "False pos. = 71\n",
      "True pos. = 22\n",
      "False neg. = 4\n",
      "Looking for a descending order here\n"
     ]
    }
   ],
   "source": [
    "matrix = confusion_matrix(y_test, y_pred)\n",
    "print('True neg. =', matrix[0][0])\n",
    "print('False pos. =', matrix[0][1])\n",
    "print('True pos. =', matrix[1][1])\n",
    "print('False neg. =', matrix[1][0])\n",
    "print('Looking for a descending order here')"
   ]
  },
  {
   "cell_type": "code",
   "execution_count": 38,
   "metadata": {},
   "outputs": [
    {
     "name": "stdout",
     "output_type": "stream",
     "text": [
      "87.9%\n"
     ]
    }
   ],
   "source": [
    "from sklearn.metrics import roc_auc_score\n",
    "print(str(np.round(roc_auc_score(y_test, y_pred), 3) * 100) + '%')"
   ]
  },
  {
   "cell_type": "code",
   "execution_count": 39,
   "metadata": {},
   "outputs": [],
   "source": [
    "X_curr_players = player_total_stats.query('is_eligible == 0')"
   ]
  },
  {
   "cell_type": "code",
   "execution_count": 40,
   "metadata": {},
   "outputs": [],
   "source": [
    "player_look_up = pd.read_csv('./baseballdatabank-2022.2/core/People.csv')\n",
    "player_look_up.drop(['birthYear', 'birthMonth', 'birthDay', 'birthCountry',\n",
    "       'birthState', 'birthCity', 'deathYear', 'deathMonth', 'deathDay',\n",
    "       'deathCountry', 'deathState', 'deathCity', 'nameGiven', 'weight', \n",
    "       'height', 'bats', 'throws', 'debut', 'finalGame', 'retroID', 'bbrefID'], axis=1, inplace=True)\n",
    "player_look_up['Name'] = player_look_up['nameFirst'] + ' ' + player_look_up['nameLast']\n",
    "player_look_up.drop(['nameFirst', 'nameLast'], axis=1, inplace=True)\n",
    "player_look_up = X_curr_players.merge(player_look_up, how = 'left', left_on = 'playerID', right_on = 'playerID')\n",
    "player_look_up = player_look_up.drop(['G', 'AB', 'R', 'H', '2B', '3B', 'HR', 'RBI', 'SB', 'BB',\n",
    "       'SO', 'IBB', 'HBP', 'SF', 'birthCountry', 'weight', 'height', 'bats_L',\n",
    "       'bats_R', 'CareerLength', 'is_eligible', 'ASGames', 'inducted',\n",
    "       'CST'], axis=1)\n",
    "\n",
    "player_look_up['Name'] = player_look_up['Name_x']\n",
    "player_look_up = player_look_up.drop(['Name_y', 'Name_x'], axis =1)"
   ]
  },
  {
   "cell_type": "code",
   "execution_count": 41,
   "metadata": {},
   "outputs": [],
   "source": [
    "import pickle\n",
    "\n",
    "# save\n",
    "#with open('improved_model.pkl','wb') as f:\n",
    "#    pickle.dump(model,f)\n",
    "#with open('X_curr_players.pkl','wb') as f:\n",
    "#    pickle.dump(X_curr_players,f)\n",
    "#with open('history.pkl','wb') as f:\n",
    "#    pickle.dump(player_total_stats,f)\n",
    "#with open('player_look_up_v2.pkl','wb') as f:\n",
    "#    pickle.dump(player_look_up,f)\n",
    "with open('pts_num.pkl', 'wb') as f:\n",
    "    pickle.dump(pts_num, f)"
   ]
  }
 ],
 "metadata": {
  "kernelspec": {
   "display_name": "Python 3.10.5 64-bit",
   "language": "python",
   "name": "python3"
  },
  "language_info": {
   "codemirror_mode": {
    "name": "ipython",
    "version": 3
   },
   "file_extension": ".py",
   "mimetype": "text/x-python",
   "name": "python",
   "nbconvert_exporter": "python",
   "pygments_lexer": "ipython3",
   "version": "3.10.5"
  },
  "orig_nbformat": 4,
  "vscode": {
   "interpreter": {
    "hash": "aee8b7b246df8f9039afb4144a1f6fd8d2ca17a180786b69acc140d282b71a49"
   }
  }
 },
 "nbformat": 4,
 "nbformat_minor": 2
}
